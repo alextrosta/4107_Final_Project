{
 "cells": [
  {
   "cell_type": "code",
   "execution_count": 1,
   "metadata": {},
   "outputs": [],
   "source": [
    "import matplotlib.pyplot as plt\n",
    "import numpy as np\n",
    "import pandas as pd"
   ]
  },
  {
   "cell_type": "code",
   "execution_count": 8,
   "metadata": {},
   "outputs": [],
   "source": [
    "# import results\n",
    "\n",
    "exp_name = '/pool'\n",
    "\n",
    "res_dir = './results'+exp_name\n",
    "\n",
    "from os import listdir\n",
    "from os.path import isfile, join\n",
    "onlyfiles = [f for f in listdir(res_dir) if isfile(join(res_dir, f))]\n",
    "\n"
   ]
  },
  {
   "cell_type": "code",
   "execution_count": 9,
   "metadata": {},
   "outputs": [],
   "source": [
    "csvs = sorted([f for f in onlyfiles if f.endswith('.csv')])\n",
    "pkls = sorted([f for f in onlyfiles if f.endswith('.pkl')])"
   ]
  },
  {
   "cell_type": "code",
   "execution_count": 10,
   "metadata": {},
   "outputs": [
    {
     "data": {
      "text/plain": [
       "['pool_AveragePooling2Dfold_1.csv',\n",
       " 'pool_AveragePooling2Dfold_2.csv',\n",
       " 'pool_AveragePooling2Dfold_3.csv',\n",
       " 'pool_AveragePooling2Dfold_4.csv',\n",
       " 'pool_AveragePooling2Dfold_5.csv',\n",
       " 'pool_MaxAvgPooling2Dfold_1.csv',\n",
       " 'pool_MaxAvgPooling2Dfold_2.csv',\n",
       " 'pool_MaxAvgPooling2Dfold_3.csv',\n",
       " 'pool_MaxAvgPooling2Dfold_4.csv',\n",
       " 'pool_MaxAvgPooling2Dfold_5.csv',\n",
       " 'pool_MaxPooling2Dfold_1.csv',\n",
       " 'pool_MaxPooling2Dfold_2.csv',\n",
       " 'pool_MaxPooling2Dfold_3.csv',\n",
       " 'pool_MaxPooling2Dfold_4.csv',\n",
       " 'pool_MaxPooling2Dfold_5.csv']"
      ]
     },
     "execution_count": 10,
     "metadata": {},
     "output_type": "execute_result"
    }
   ],
   "source": [
    "csvs[:15]"
   ]
  },
  {
   "cell_type": "code",
   "execution_count": 11,
   "metadata": {
    "scrolled": false
   },
   "outputs": [],
   "source": [
    "# first expt\n",
    "acc_df = pd.DataFrame()\n",
    "time_df = pd.DataFrame()\n",
    "i = 0\n",
    "for c in csvs[:5]:\n",
    "    df = pd.read_csv(res_dir + '/' + c)\n",
    "    acc_df = pd.concat([acc_df, df['acc']], axis = 1)\n",
    "    time_df = pd.concat([time_df, df['time']], axis = 1)\n",
    "    \n",
    "ex1 = acc_df.mean(axis = 1)\n",
    "\n",
    "# second expt\n",
    "acc_df = pd.DataFrame()\n",
    "time_df = pd.DataFrame()\n",
    "i = 0\n",
    "for c in csvs[5:10]:\n",
    "    df = pd.read_csv(res_dir + '/' + c)\n",
    "    acc_df = pd.concat([acc_df, df['acc']], axis = 1)\n",
    "    time_df = pd.concat([time_df, df['time']], axis = 1)\n",
    "    \n",
    "ex2 = acc_df.mean(axis = 1)\n",
    "\n",
    "# third expt\n",
    "acc_df = pd.DataFrame()\n",
    "time_df = pd.DataFrame()\n",
    "i = 0\n",
    "for c in csvs[10:15]:\n",
    "    df = pd.read_csv(res_dir + '/' + c)\n",
    "    acc_df = pd.concat([acc_df, df['acc']], axis = 1)\n",
    "    time_df = pd.concat([time_df, df['time']], axis = 1)\n",
    "    \n",
    "ex3 = acc_df.mean(axis = 1)\n",
    "\n",
    "# fourth expt\n",
    "# acc_df = pd.DataFrame()\n",
    "# time_df = pd.DataFrame()\n",
    "# i = 0\n",
    "# for c in csvs[15:20]:\n",
    "#     df = pd.read_csv(res_dir + '/' + c)\n",
    "#     acc_df = pd.concat([acc_df, df['acc']], axis = 1)\n",
    "#     time_df = pd.concat([time_df, df['time']], axis = 1)\n",
    "    \n",
    "# ex4 = acc_df.mean(axis = 1)"
   ]
  },
  {
   "cell_type": "code",
   "execution_count": 12,
   "metadata": {},
   "outputs": [],
   "source": [
    "plot_df = pd.DataFrame(columns = ['epoch'])\n",
    "plot_df['epoch'] = [i for i in range(1,21)]\n",
    "plot_df = pd.concat([plot_df, ex1], axis = 1)\n",
    "plot_df.rename(columns= {0: 'ex1'}, inplace = True)\n",
    "plot_df = pd.concat([plot_df, ex2], axis = 1)\n",
    "plot_df.rename(columns= {0: 'ex2'}, inplace = True)\n",
    "plot_df = pd.concat([plot_df, ex3], axis = 1)\n",
    "plot_df.rename(columns= {0: 'ex3'}, inplace = True)\n",
    "# plot_df = pd.concat([plot_df, ex4], axis = 1)\n",
    "# plot_df.rename(columns= {0: 'ex4'}, inplace = True)"
   ]
  },
  {
   "cell_type": "code",
   "execution_count": 40,
   "metadata": {},
   "outputs": [
    {
     "data": {
      "image/png": "[encoded data removed]",
      "text/plain": [
       "<Figure size 432x288 with 1 Axes>"
      ]
     },
     "metadata": {
      "needs_background": "light"
     },
     "output_type": "display_data"
    }
   ],
   "source": [
    "title_str = 'Average Training Accuracy across Folds \\n with Different Global Pooling Layers'\n",
    "\n",
    "ax = plot_df.plot(x = 'epoch', \n",
    "                  legend = True,\n",
    "                  title = title_str,\n",
    "                  colormap = 'brg')\n",
    "\n",
    "ax.set_xlabel('Epochs')\n",
    "ax.set_ylabel('Avg. Training Accuracy Across Folds')\n",
    "ax.legend(['Mean', \n",
    "           'MaxMean', \n",
    "           'Max',\n",
    "           'Adam'])\n",
    "\n",
    "fig = ax.get_figure()\n",
    "fig.savefig('pool_lines.pdf', dpi = 600)\n"
   ]
  },
  {
   "cell_type": "code",
   "execution_count": 41,
   "metadata": {},
   "outputs": [],
   "source": [
    "a1 = []\n",
    "for p in pkls[:5]:\n",
    "    a1.append(np.load(res_dir+ '/' +p))\n",
    "a2 = []\n",
    "for p in pkls[5:10]:\n",
    "    a2.append(np.load(res_dir+ '/' +p))\n",
    "a3 = []\n",
    "for p in pkls[10:15]:\n",
    "    a3.append(np.load(res_dir+ '/' +p))\n",
    "# a4 = []\n",
    "# for p in pkls[15:20]:\n",
    "#     a4.append(np.load(res_dir+ '/' +p))"
   ]
  },
  {
   "cell_type": "code",
   "execution_count": 42,
   "metadata": {},
   "outputs": [
    {
     "data": {
      "text/plain": [
       "(185,)"
      ]
     },
     "execution_count": 42,
     "metadata": {},
     "output_type": "execute_result"
    }
   ],
   "source": [
    "ex5.shape"
   ]
  },
  {
   "cell_type": "code",
   "execution_count": 43,
   "metadata": {},
   "outputs": [],
   "source": [
    "ex5 = np.asarray(a1).reshape(185)\n",
    "ex6 = np.asarray(a2).reshape(185)\n",
    "ex7 = np.asarray(a3).reshape(185)\n",
    "# ex8 = np.asarray(a4).reshape(185)"
   ]
  },
  {
   "cell_type": "code",
   "execution_count": 44,
   "metadata": {},
   "outputs": [],
   "source": [
    "ex5_mean = np.mean(ex5)\n",
    "ex5_std  = np.std(ex5)\n",
    "\n",
    "ex6_mean = np.mean(ex6)\n",
    "ex6_std  = np.std(ex6)\n",
    "\n",
    "ex7_mean = np.mean(ex7)\n",
    "ex7_std  = np.std(ex7)\n",
    "\n",
    "# ex8_mean = np.mean(ex8)\n",
    "# ex8_std  = np.std(ex8)"
   ]
  },
  {
   "cell_type": "code",
   "execution_count": 45,
   "metadata": {},
   "outputs": [],
   "source": [
    "# Create lists for the plot\n",
    "expts = ['Avg', \n",
    "         'MaxMean', \n",
    "         'Max']\n",
    "x_pos = np.arange(len(expts))\n",
    "CTEs  = [ex5_mean, ex6_mean, ex7_mean]\n",
    "error = [ex5_std, ex6_std, ex7_std]"
   ]
  },
  {
   "cell_type": "code",
   "execution_count": 46,
   "metadata": {},
   "outputs": [
    {
     "data": {
      "image/png": "[encoded data removed]",
      "text/plain": [
       "<Figure size 432x288 with 1 Axes>"
      ]
     },
     "metadata": {
      "needs_background": "light"
     },
     "output_type": "display_data"
    }
   ],
   "source": [
    "# Build the plot\n",
    "fig, ax = plt.subplots()\n",
    "ax.bar(x_pos, CTEs, yerr=error, align='center', alpha=0.5, ecolor='black', capsize=10)\n",
    "ax.set_ylabel('Avg. Testing Accuracy Across Folds')\n",
    "ax.set_xticks(x_pos)\n",
    "ax.set_xticklabels(expts)\n",
    "ax.set_title('Average Testing Accuracy Across Folds with\\n Different Global Pooling Layers')\n",
    "ax.set_ylim([0.5,0.85])\n",
    "ax.yaxis.grid(True)\n",
    "\n",
    "# Save the figure and show\n",
    "plt.tight_layout()\n",
    "plt.savefig('pool_bar.pdf', dpi = 600)\n",
    "plt.show()"
   ]
  },
  {
   "cell_type": "code",
   "execution_count": null,
   "metadata": {},
   "outputs": [],
   "source": [
    "\n",
    "\n",
    "\n",
    "\n",
    "\n",
    "\n",
    "\n",
    "\n",
    "\n",
    "\n",
    "\n",
    "\n",
    "\n",
    "\n",
    "\n",
    "\n",
    "\n",
    "\n",
    "\n",
    "\n",
    "\n",
    "\n",
    "\n",
    "\n",
    "\n",
    "\n",
    "\n",
    "\n",
    "\n",
    "\n",
    "\n",
    "\n",
    "\n",
    "\n",
    "\n",
    "\n",
    "\n",
    "\n",
    "\n",
    "\n",
    "\n",
    "\n",
    "\n",
    "\n",
    "\n",
    "\n",
    "\n",
    "\n",
    "\n"
   ]
  },
  {
   "cell_type": "code",
   "execution_count": null,
   "metadata": {},
   "outputs": [],
   "source": []
  }
 ],
 "metadata": {
  "kernelspec": {
   "display_name": "Python 3",
   "language": "python",
   "name": "python3"
  },
  "language_info": {
   "codemirror_mode": {
    "name": "ipython",
    "version": 3
   },
   "file_extension": ".py",
   "mimetype": "text/x-python",
   "name": "python",
   "nbconvert_exporter": "python",
   "pygments_lexer": "ipython3",
   "version": "3.6.7"
  }
 },
 "nbformat": 4,
 "nbformat_minor": 2
}
